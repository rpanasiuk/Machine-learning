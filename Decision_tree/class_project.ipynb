{
 "cells": [
  {
   "cell_type": "markdown",
   "metadata": {},
   "source": [
    "# Machine learning - decision trees\n",
    "\n",
    " In this small project we will be playing with dataset which comes from coursera's machine learning specialization. The LendingClub is a peer-to-peer leading company that directly connects borrowers and potential lenders/investors. We will try to build a model to predict what is probability to pay back a loan."
   ]
  },
  {
   "cell_type": "code",
   "execution_count": 1,
   "metadata": {},
   "outputs": [],
   "source": [
    "import pandas as pd\n",
    "import numpy as np\n",
    "from sklearn.tree import DecisionTreeClassifier\n",
    "from sklearn.model_selection import train_test_split\n",
    "from sklearn.metrics import classification_report,confusion_matrix"
   ]
  },
  {
   "cell_type": "markdown",
   "metadata": {},
   "source": [
    "## Data\n",
    "\n",
    "Loading the loans dataset using pandas. Setting up column data types at the beginning may avoid memory problems with huge datasets (dtype determination of each column)."
   ]
  },
  {
   "cell_type": "code",
   "execution_count": 2,
   "metadata": {},
   "outputs": [],
   "source": [
    "loans = pd.read_csv('lending-club-data.csv', dtype={'desc': object, 'next_pymnt_d': object})"
   ]
  },
  {
   "cell_type": "markdown",
   "metadata": {},
   "source": [
    "Changing values to be consistent with the previous lectures.\n",
    "<br>We reassing the target to be:\n",
    "<br>  **+1 as a safe loan,**\n",
    "<br>  **-1 as a risky (bad) loan.**"
   ]
  },
  {
   "cell_type": "code",
   "execution_count": 3,
   "metadata": {},
   "outputs": [],
   "source": [
    "loans['safe_loans'] = loans['bad_loans'].apply(lambda x: +1 if x == 0 else -1)\n",
    "loans = loans.drop('bad_loans', axis=1)"
   ]
  },
  {
   "cell_type": "code",
   "execution_count": 4,
   "metadata": {},
   "outputs": [
    {
     "name": "stdout",
     "output_type": "stream",
     "text": [
      "<class 'pandas.core.frame.DataFrame'>\n",
      "RangeIndex: 122607 entries, 0 to 122606\n",
      "Data columns (total 68 columns):\n",
      "id                             122607 non-null int64\n",
      "member_id                      122607 non-null int64\n",
      "loan_amnt                      122607 non-null int64\n",
      "funded_amnt                    122607 non-null int64\n",
      "funded_amnt_inv                122607 non-null int64\n",
      "term                           122607 non-null object\n",
      "int_rate                       122607 non-null float64\n",
      "installment                    122607 non-null float64\n",
      "grade                          122607 non-null object\n",
      "sub_grade                      122607 non-null object\n",
      "emp_title                      115770 non-null object\n",
      "emp_length                     122607 non-null object\n",
      "home_ownership                 122607 non-null object\n",
      "annual_inc                     122603 non-null float64\n",
      "is_inc_v                       122607 non-null object\n",
      "issue_d                        122607 non-null object\n",
      "loan_status                    122607 non-null object\n",
      "pymnt_plan                     122607 non-null object\n",
      "url                            122607 non-null object\n",
      "desc                           60706 non-null object\n",
      "purpose                        122607 non-null object\n",
      "title                          122597 non-null object\n",
      "zip_code                       122607 non-null object\n",
      "addr_state                     122607 non-null object\n",
      "dti                            122607 non-null float64\n",
      "delinq_2yrs                    122578 non-null float64\n",
      "earliest_cr_line               122578 non-null object\n",
      "inq_last_6mths                 122578 non-null float64\n",
      "mths_since_last_delinq         50500 non-null float64\n",
      "mths_since_last_record         12531 non-null float64\n",
      "open_acc                       122578 non-null float64\n",
      "pub_rec                        122578 non-null float64\n",
      "revol_bal                      122607 non-null int64\n",
      "revol_util                     122607 non-null float64\n",
      "total_acc                      122578 non-null float64\n",
      "initial_list_status            122607 non-null object\n",
      "out_prncp                      122607 non-null float64\n",
      "out_prncp_inv                  122607 non-null float64\n",
      "total_pymnt                    122607 non-null float64\n",
      "total_pymnt_inv                122607 non-null float64\n",
      "total_rec_prncp                122607 non-null float64\n",
      "total_rec_int                  122607 non-null float64\n",
      "total_rec_late_fee             122607 non-null float64\n",
      "recoveries                     122607 non-null float64\n",
      "collection_recovery_fee        122607 non-null float64\n",
      "last_pymnt_d                   122271 non-null object\n",
      "last_pymnt_amnt                122607 non-null float64\n",
      "next_pymnt_d                   2907 non-null object\n",
      "last_credit_pull_d             122601 non-null object\n",
      "collections_12_mths_ex_med     122462 non-null float64\n",
      "mths_since_last_major_derog    15460 non-null float64\n",
      "policy_code                    122607 non-null int64\n",
      "not_compliant                  122607 non-null int64\n",
      "status                         122607 non-null object\n",
      "inactive_loans                 122607 non-null int64\n",
      "emp_length_num                 122607 non-null int64\n",
      "grade_num                      122607 non-null int64\n",
      "sub_grade_num                  122607 non-null float64\n",
      "delinq_2yrs_zero               122578 non-null float64\n",
      "pub_rec_zero                   122578 non-null float64\n",
      "collections_12_mths_zero       122462 non-null float64\n",
      "short_emp                      122607 non-null int64\n",
      "payment_inc_ratio              122603 non-null float64\n",
      "final_d                        122607 non-null object\n",
      "last_delinq_none               122607 non-null int64\n",
      "last_record_none               122607 non-null int64\n",
      "last_major_derog_none          122607 non-null int64\n",
      "safe_loans                     122607 non-null int64\n",
      "dtypes: float64(29), int64(16), object(23)\n",
      "memory usage: 63.6+ MB\n"
     ]
    }
   ],
   "source": [
    "loans.info()"
   ]
  },
  {
   "cell_type": "markdown",
   "metadata": {},
   "source": [
    "## Features for the classification\n",
    "\n",
    "We will be using a subset of categorical and numeric features."
   ]
  },
  {
   "cell_type": "code",
   "execution_count": 5,
   "metadata": {},
   "outputs": [],
   "source": [
    "features = ['grade',                     # grade of the loan\n",
    "            'sub_grade',                 # sub-grade of the loan\n",
    "            'short_emp',                 # one year or less of employment\n",
    "            'emp_length_num',            # number of years of employment\n",
    "            'home_ownership',            # home_ownership status: own, mortgage or rent\n",
    "            'dti',                       # debt to income ratio\n",
    "            'purpose',                   # the purpose of the loan\n",
    "            'term',                      # the term of the loan\n",
    "            'last_delinq_none',          # has borrower had a delinquincy\n",
    "            'last_major_derog_none',     # has borrower had 90 day or worse rating\n",
    "            'revol_util',                # percent of available credit being used\n",
    "            'total_rec_late_fee',        # total late fees received to day\n",
    "            ]\n",
    "target = 'safe_loans'                    # prediction target (y) (+1 means safe, -1 is risky)\n",
    "loans = loans[features + [target]]"
   ]
  },
  {
   "cell_type": "code",
   "execution_count": 6,
   "metadata": {},
   "outputs": [
    {
     "data": {
      "text/html": [
       "<div>\n",
       "<style>\n",
       "    .dataframe thead tr:only-child th {\n",
       "        text-align: right;\n",
       "    }\n",
       "\n",
       "    .dataframe thead th {\n",
       "        text-align: left;\n",
       "    }\n",
       "\n",
       "    .dataframe tbody tr th {\n",
       "        vertical-align: top;\n",
       "    }\n",
       "</style>\n",
       "<table border=\"1\" class=\"dataframe\">\n",
       "  <thead>\n",
       "    <tr style=\"text-align: right;\">\n",
       "      <th></th>\n",
       "      <th>grade</th>\n",
       "      <th>sub_grade</th>\n",
       "      <th>short_emp</th>\n",
       "      <th>emp_length_num</th>\n",
       "      <th>home_ownership</th>\n",
       "      <th>dti</th>\n",
       "      <th>purpose</th>\n",
       "      <th>term</th>\n",
       "      <th>last_delinq_none</th>\n",
       "      <th>last_major_derog_none</th>\n",
       "      <th>revol_util</th>\n",
       "      <th>total_rec_late_fee</th>\n",
       "      <th>safe_loans</th>\n",
       "    </tr>\n",
       "  </thead>\n",
       "  <tbody>\n",
       "    <tr>\n",
       "      <th>0</th>\n",
       "      <td>B</td>\n",
       "      <td>B2</td>\n",
       "      <td>0</td>\n",
       "      <td>11</td>\n",
       "      <td>RENT</td>\n",
       "      <td>27.65</td>\n",
       "      <td>credit_card</td>\n",
       "      <td>36 months</td>\n",
       "      <td>1</td>\n",
       "      <td>1</td>\n",
       "      <td>83.7</td>\n",
       "      <td>0.00</td>\n",
       "      <td>1</td>\n",
       "    </tr>\n",
       "    <tr>\n",
       "      <th>1</th>\n",
       "      <td>C</td>\n",
       "      <td>C4</td>\n",
       "      <td>1</td>\n",
       "      <td>1</td>\n",
       "      <td>RENT</td>\n",
       "      <td>1.00</td>\n",
       "      <td>car</td>\n",
       "      <td>60 months</td>\n",
       "      <td>1</td>\n",
       "      <td>1</td>\n",
       "      <td>9.4</td>\n",
       "      <td>0.00</td>\n",
       "      <td>-1</td>\n",
       "    </tr>\n",
       "    <tr>\n",
       "      <th>2</th>\n",
       "      <td>C</td>\n",
       "      <td>C5</td>\n",
       "      <td>0</td>\n",
       "      <td>11</td>\n",
       "      <td>RENT</td>\n",
       "      <td>8.72</td>\n",
       "      <td>small_business</td>\n",
       "      <td>36 months</td>\n",
       "      <td>1</td>\n",
       "      <td>1</td>\n",
       "      <td>98.5</td>\n",
       "      <td>0.00</td>\n",
       "      <td>1</td>\n",
       "    </tr>\n",
       "    <tr>\n",
       "      <th>3</th>\n",
       "      <td>C</td>\n",
       "      <td>C1</td>\n",
       "      <td>0</td>\n",
       "      <td>11</td>\n",
       "      <td>RENT</td>\n",
       "      <td>20.00</td>\n",
       "      <td>other</td>\n",
       "      <td>36 months</td>\n",
       "      <td>0</td>\n",
       "      <td>1</td>\n",
       "      <td>21.0</td>\n",
       "      <td>16.97</td>\n",
       "      <td>1</td>\n",
       "    </tr>\n",
       "    <tr>\n",
       "      <th>4</th>\n",
       "      <td>A</td>\n",
       "      <td>A4</td>\n",
       "      <td>0</td>\n",
       "      <td>4</td>\n",
       "      <td>RENT</td>\n",
       "      <td>11.20</td>\n",
       "      <td>wedding</td>\n",
       "      <td>36 months</td>\n",
       "      <td>1</td>\n",
       "      <td>1</td>\n",
       "      <td>28.3</td>\n",
       "      <td>0.00</td>\n",
       "      <td>1</td>\n",
       "    </tr>\n",
       "  </tbody>\n",
       "</table>\n",
       "</div>"
      ],
      "text/plain": [
       "  grade sub_grade  short_emp  emp_length_num home_ownership    dti  \\\n",
       "0     B        B2          0              11           RENT  27.65   \n",
       "1     C        C4          1               1           RENT   1.00   \n",
       "2     C        C5          0              11           RENT   8.72   \n",
       "3     C        C1          0              11           RENT  20.00   \n",
       "4     A        A4          0               4           RENT  11.20   \n",
       "\n",
       "          purpose        term  last_delinq_none  last_major_derog_none  \\\n",
       "0     credit_card   36 months                 1                      1   \n",
       "1             car   60 months                 1                      1   \n",
       "2  small_business   36 months                 1                      1   \n",
       "3           other   36 months                 0                      1   \n",
       "4         wedding   36 months                 1                      1   \n",
       "\n",
       "   revol_util  total_rec_late_fee  safe_loans  \n",
       "0        83.7                0.00           1  \n",
       "1         9.4                0.00          -1  \n",
       "2        98.5                0.00           1  \n",
       "3        21.0               16.97           1  \n",
       "4        28.3                0.00           1  "
      ]
     },
     "execution_count": 6,
     "metadata": {},
     "output_type": "execute_result"
    }
   ],
   "source": [
    "loans.head()"
   ]
  },
  {
   "cell_type": "code",
   "execution_count": 7,
   "metadata": {},
   "outputs": [
    {
     "data": {
      "text/html": [
       "<div>\n",
       "<style>\n",
       "    .dataframe thead tr:only-child th {\n",
       "        text-align: right;\n",
       "    }\n",
       "\n",
       "    .dataframe thead th {\n",
       "        text-align: left;\n",
       "    }\n",
       "\n",
       "    .dataframe tbody tr th {\n",
       "        vertical-align: top;\n",
       "    }\n",
       "</style>\n",
       "<table border=\"1\" class=\"dataframe\">\n",
       "  <thead>\n",
       "    <tr style=\"text-align: right;\">\n",
       "      <th></th>\n",
       "      <th>short_emp</th>\n",
       "      <th>emp_length_num</th>\n",
       "      <th>dti</th>\n",
       "      <th>last_delinq_none</th>\n",
       "      <th>last_major_derog_none</th>\n",
       "      <th>revol_util</th>\n",
       "      <th>total_rec_late_fee</th>\n",
       "      <th>safe_loans</th>\n",
       "    </tr>\n",
       "  </thead>\n",
       "  <tbody>\n",
       "    <tr>\n",
       "      <th>count</th>\n",
       "      <td>122607.000000</td>\n",
       "      <td>122607.000000</td>\n",
       "      <td>122607.000000</td>\n",
       "      <td>122607.000000</td>\n",
       "      <td>122607.000000</td>\n",
       "      <td>122607.000000</td>\n",
       "      <td>122607.000000</td>\n",
       "      <td>122607.000000</td>\n",
       "    </tr>\n",
       "    <tr>\n",
       "      <th>mean</th>\n",
       "      <td>0.123672</td>\n",
       "      <td>6.370256</td>\n",
       "      <td>15.496888</td>\n",
       "      <td>0.588115</td>\n",
       "      <td>0.873906</td>\n",
       "      <td>53.716307</td>\n",
       "      <td>0.742344</td>\n",
       "      <td>0.622371</td>\n",
       "    </tr>\n",
       "    <tr>\n",
       "      <th>std</th>\n",
       "      <td>0.329208</td>\n",
       "      <td>3.736014</td>\n",
       "      <td>7.497442</td>\n",
       "      <td>0.492177</td>\n",
       "      <td>0.331957</td>\n",
       "      <td>25.723881</td>\n",
       "      <td>5.363268</td>\n",
       "      <td>0.782726</td>\n",
       "    </tr>\n",
       "    <tr>\n",
       "      <th>min</th>\n",
       "      <td>0.000000</td>\n",
       "      <td>0.000000</td>\n",
       "      <td>0.000000</td>\n",
       "      <td>0.000000</td>\n",
       "      <td>0.000000</td>\n",
       "      <td>0.000000</td>\n",
       "      <td>0.000000</td>\n",
       "      <td>-1.000000</td>\n",
       "    </tr>\n",
       "    <tr>\n",
       "      <th>25%</th>\n",
       "      <td>0.000000</td>\n",
       "      <td>3.000000</td>\n",
       "      <td>9.880000</td>\n",
       "      <td>0.000000</td>\n",
       "      <td>1.000000</td>\n",
       "      <td>34.800000</td>\n",
       "      <td>0.000000</td>\n",
       "      <td>1.000000</td>\n",
       "    </tr>\n",
       "    <tr>\n",
       "      <th>50%</th>\n",
       "      <td>0.000000</td>\n",
       "      <td>6.000000</td>\n",
       "      <td>15.260000</td>\n",
       "      <td>1.000000</td>\n",
       "      <td>1.000000</td>\n",
       "      <td>55.700000</td>\n",
       "      <td>0.000000</td>\n",
       "      <td>1.000000</td>\n",
       "    </tr>\n",
       "    <tr>\n",
       "      <th>75%</th>\n",
       "      <td>0.000000</td>\n",
       "      <td>11.000000</td>\n",
       "      <td>20.850000</td>\n",
       "      <td>1.000000</td>\n",
       "      <td>1.000000</td>\n",
       "      <td>74.300000</td>\n",
       "      <td>0.000000</td>\n",
       "      <td>1.000000</td>\n",
       "    </tr>\n",
       "    <tr>\n",
       "      <th>max</th>\n",
       "      <td>1.000000</td>\n",
       "      <td>11.000000</td>\n",
       "      <td>39.880000</td>\n",
       "      <td>1.000000</td>\n",
       "      <td>1.000000</td>\n",
       "      <td>150.700000</td>\n",
       "      <td>208.820000</td>\n",
       "      <td>1.000000</td>\n",
       "    </tr>\n",
       "  </tbody>\n",
       "</table>\n",
       "</div>"
      ],
      "text/plain": [
       "           short_emp  emp_length_num            dti  last_delinq_none  \\\n",
       "count  122607.000000   122607.000000  122607.000000     122607.000000   \n",
       "mean        0.123672        6.370256      15.496888          0.588115   \n",
       "std         0.329208        3.736014       7.497442          0.492177   \n",
       "min         0.000000        0.000000       0.000000          0.000000   \n",
       "25%         0.000000        3.000000       9.880000          0.000000   \n",
       "50%         0.000000        6.000000      15.260000          1.000000   \n",
       "75%         0.000000       11.000000      20.850000          1.000000   \n",
       "max         1.000000       11.000000      39.880000          1.000000   \n",
       "\n",
       "       last_major_derog_none     revol_util  total_rec_late_fee     safe_loans  \n",
       "count          122607.000000  122607.000000       122607.000000  122607.000000  \n",
       "mean                0.873906      53.716307            0.742344       0.622371  \n",
       "std                 0.331957      25.723881            5.363268       0.782726  \n",
       "min                 0.000000       0.000000            0.000000      -1.000000  \n",
       "25%                 1.000000      34.800000            0.000000       1.000000  \n",
       "50%                 1.000000      55.700000            0.000000       1.000000  \n",
       "75%                 1.000000      74.300000            0.000000       1.000000  \n",
       "max                 1.000000     150.700000          208.820000       1.000000  "
      ]
     },
     "execution_count": 7,
     "metadata": {},
     "output_type": "execute_result"
    }
   ],
   "source": [
    "loans.describe()"
   ]
  },
  {
   "cell_type": "markdown",
   "metadata": {},
   "source": [
    "## Data preparation\n",
    "\n",
    "**Note:** We will use imbalanced data in this approach. To deal with that issue there are some advanced methods but we will not use them to build this classifier.\n",
    "\n",
    "Checking every feature if there is some missing data."
   ]
  },
  {
   "cell_type": "code",
   "execution_count": 8,
   "metadata": {},
   "outputs": [
    {
     "data": {
      "text/plain": [
       "grade                    False\n",
       "sub_grade                False\n",
       "short_emp                False\n",
       "emp_length_num           False\n",
       "home_ownership           False\n",
       "dti                      False\n",
       "purpose                  False\n",
       "term                     False\n",
       "last_delinq_none         False\n",
       "last_major_derog_none    False\n",
       "revol_util               False\n",
       "total_rec_late_fee       False\n",
       "safe_loans               False\n",
       "dtype: bool"
      ]
     },
     "execution_count": 8,
     "metadata": {},
     "output_type": "execute_result"
    }
   ],
   "source": [
    "loans[loans.isnull().any(axis=1)].any()"
   ]
  },
  {
   "cell_type": "markdown",
   "metadata": {},
   "source": [
    "Let's create a dataframe showing basic info about data. As we can see there are categorical features which we need to take care of. The basic strategy is to convert each category value into a new column and assigns a 1 or 0 value to the column. This approach is called **one hot encoding**. We avoid misleading weighting of values. However it does have downside of adding more columns to data set. The example is sub_grade feature which has 35 unique values. "
   ]
  },
  {
   "cell_type": "code",
   "execution_count": 9,
   "metadata": {},
   "outputs": [
    {
     "data": {
      "text/html": [
       "<div>\n",
       "<style>\n",
       "    .dataframe thead tr:only-child th {\n",
       "        text-align: right;\n",
       "    }\n",
       "\n",
       "    .dataframe thead th {\n",
       "        text-align: left;\n",
       "    }\n",
       "\n",
       "    .dataframe tbody tr th {\n",
       "        vertical-align: top;\n",
       "    }\n",
       "</style>\n",
       "<table border=\"1\" class=\"dataframe\">\n",
       "  <thead>\n",
       "    <tr style=\"text-align: right;\">\n",
       "      <th></th>\n",
       "      <th>feature</th>\n",
       "      <th>unique_values</th>\n",
       "      <th>dtype_</th>\n",
       "    </tr>\n",
       "  </thead>\n",
       "  <tbody>\n",
       "    <tr>\n",
       "      <th>0</th>\n",
       "      <td>grade</td>\n",
       "      <td>7</td>\n",
       "      <td>object</td>\n",
       "    </tr>\n",
       "    <tr>\n",
       "      <th>1</th>\n",
       "      <td>sub_grade</td>\n",
       "      <td>35</td>\n",
       "      <td>object</td>\n",
       "    </tr>\n",
       "    <tr>\n",
       "      <th>2</th>\n",
       "      <td>short_emp</td>\n",
       "      <td>2</td>\n",
       "      <td>int64</td>\n",
       "    </tr>\n",
       "    <tr>\n",
       "      <th>3</th>\n",
       "      <td>emp_length_num</td>\n",
       "      <td>12</td>\n",
       "      <td>int64</td>\n",
       "    </tr>\n",
       "    <tr>\n",
       "      <th>4</th>\n",
       "      <td>home_ownership</td>\n",
       "      <td>4</td>\n",
       "      <td>object</td>\n",
       "    </tr>\n",
       "    <tr>\n",
       "      <th>5</th>\n",
       "      <td>dti</td>\n",
       "      <td>3543</td>\n",
       "      <td>float64</td>\n",
       "    </tr>\n",
       "    <tr>\n",
       "      <th>6</th>\n",
       "      <td>purpose</td>\n",
       "      <td>12</td>\n",
       "      <td>object</td>\n",
       "    </tr>\n",
       "    <tr>\n",
       "      <th>7</th>\n",
       "      <td>term</td>\n",
       "      <td>2</td>\n",
       "      <td>object</td>\n",
       "    </tr>\n",
       "    <tr>\n",
       "      <th>8</th>\n",
       "      <td>last_delinq_none</td>\n",
       "      <td>2</td>\n",
       "      <td>int64</td>\n",
       "    </tr>\n",
       "    <tr>\n",
       "      <th>9</th>\n",
       "      <td>last_major_derog_none</td>\n",
       "      <td>2</td>\n",
       "      <td>int64</td>\n",
       "    </tr>\n",
       "    <tr>\n",
       "      <th>10</th>\n",
       "      <td>revol_util</td>\n",
       "      <td>1156</td>\n",
       "      <td>float64</td>\n",
       "    </tr>\n",
       "    <tr>\n",
       "      <th>11</th>\n",
       "      <td>total_rec_late_fee</td>\n",
       "      <td>2472</td>\n",
       "      <td>float64</td>\n",
       "    </tr>\n",
       "    <tr>\n",
       "      <th>12</th>\n",
       "      <td>safe_loans</td>\n",
       "      <td>2</td>\n",
       "      <td>int64</td>\n",
       "    </tr>\n",
       "  </tbody>\n",
       "</table>\n",
       "</div>"
      ],
      "text/plain": [
       "                  feature  unique_values   dtype_\n",
       "0                   grade              7   object\n",
       "1               sub_grade             35   object\n",
       "2               short_emp              2    int64\n",
       "3          emp_length_num             12    int64\n",
       "4          home_ownership              4   object\n",
       "5                     dti           3543  float64\n",
       "6                 purpose             12   object\n",
       "7                    term              2   object\n",
       "8        last_delinq_none              2    int64\n",
       "9   last_major_derog_none              2    int64\n",
       "10             revol_util           1156  float64\n",
       "11     total_rec_late_fee           2472  float64\n",
       "12             safe_loans              2    int64"
      ]
     },
     "execution_count": 9,
     "metadata": {},
     "output_type": "execute_result"
    }
   ],
   "source": [
    "df_feat = pd.DataFrame.from_records([(j, len(loans[j].value_counts().index), loans[j].dtype) for j in loans.columns],\n",
    "                                    columns=['feature', 'unique_values', 'dtype_'])\n",
    "df_feat"
   ]
  },
  {
   "cell_type": "markdown",
   "metadata": {},
   "source": [
    "We need to define a list of categorical features."
   ]
  },
  {
   "cell_type": "code",
   "execution_count": 10,
   "metadata": {},
   "outputs": [
    {
     "data": {
      "text/plain": [
       "(['grade', 'sub_grade', 'home_ownership', 'purpose', 'term'], 35)"
      ]
     },
     "execution_count": 10,
     "metadata": {},
     "output_type": "execute_result"
    }
   ],
   "source": [
    "list_feat = list(df_feat.feature[df_feat.dtype_ == object])\n",
    "max_val_feat = max(df_feat.unique_values[df_feat.dtype_ == object])\n",
    "list_feat, max_val_feat"
   ]
  },
  {
   "cell_type": "markdown",
   "metadata": {},
   "source": [
    "A few words about features with many unique values. There is some simple approach called **custom binary encoding**. It allows to assume that the various values of feature are all the same for this specific analysis e.g. bathroom has shower or bath - we can create a new column the indicates whether or not the bathroom has atleast one of them. In the case of sub_grade unique values it does not seem to be a good solution."
   ]
  },
  {
   "cell_type": "code",
   "execution_count": 11,
   "metadata": {},
   "outputs": [
    {
     "data": {
      "text/plain": [
       "'sub_grade'"
      ]
     },
     "execution_count": 11,
     "metadata": {},
     "output_type": "execute_result"
    }
   ],
   "source": [
    "max_feat = df_feat.feature[(df_feat.dtype_ == object) & (df_feat.unique_values == max_val_feat)].reset_index(drop=True)[0]\n",
    "max_feat"
   ]
  },
  {
   "cell_type": "code",
   "execution_count": 12,
   "metadata": {},
   "outputs": [
    {
     "data": {
      "text/plain": [
       "B3    9036\n",
       "B4    8279\n",
       "B2    7096\n",
       "C1    7068\n",
       "B5    6924\n",
       "C2    6726\n",
       "A5    6027\n",
       "A4    5993\n",
       "B1    5837\n",
       "C3    5690\n",
       "Name: sub_grade, dtype: int64"
      ]
     },
     "execution_count": 12,
     "metadata": {},
     "output_type": "execute_result"
    }
   ],
   "source": [
    "loans[max_feat].value_counts().head(10)"
   ]
  },
  {
   "cell_type": "markdown",
   "metadata": {},
   "source": [
    "We need to transform categorical features using dummy variables. This is alternative to sklearn.preprocessing methods."
   ]
  },
  {
   "cell_type": "code",
   "execution_count": 13,
   "metadata": {},
   "outputs": [
    {
     "data": {
      "text/plain": [
       "Index(['short_emp', 'emp_length_num', 'dti', 'last_delinq_none',\n",
       "       'last_major_derog_none', 'revol_util', 'total_rec_late_fee',\n",
       "       'safe_loans', 'grade_B', 'grade_C', 'grade_D', 'grade_E', 'grade_F',\n",
       "       'grade_G', 'sub_grade_A2', 'sub_grade_A3', 'sub_grade_A4',\n",
       "       'sub_grade_A5', 'sub_grade_B1', 'sub_grade_B2', 'sub_grade_B3',\n",
       "       'sub_grade_B4', 'sub_grade_B5', 'sub_grade_C1', 'sub_grade_C2',\n",
       "       'sub_grade_C3', 'sub_grade_C4', 'sub_grade_C5', 'sub_grade_D1',\n",
       "       'sub_grade_D2', 'sub_grade_D3', 'sub_grade_D4', 'sub_grade_D5',\n",
       "       'sub_grade_E1', 'sub_grade_E2', 'sub_grade_E3', 'sub_grade_E4',\n",
       "       'sub_grade_E5', 'sub_grade_F1', 'sub_grade_F2', 'sub_grade_F3',\n",
       "       'sub_grade_F4', 'sub_grade_F5', 'sub_grade_G1', 'sub_grade_G2',\n",
       "       'sub_grade_G3', 'sub_grade_G4', 'sub_grade_G5', 'home_ownership_OTHER',\n",
       "       'home_ownership_OWN', 'home_ownership_RENT', 'purpose_credit_card',\n",
       "       'purpose_debt_consolidation', 'purpose_home_improvement',\n",
       "       'purpose_house', 'purpose_major_purchase', 'purpose_medical',\n",
       "       'purpose_moving', 'purpose_other', 'purpose_small_business',\n",
       "       'purpose_vacation', 'purpose_wedding', 'term_ 60 months'],\n",
       "      dtype='object')"
      ]
     },
     "execution_count": 13,
     "metadata": {},
     "output_type": "execute_result"
    }
   ],
   "source": [
    "loans = pd.get_dummies(loans, columns=list_feat, prefix=list_feat, drop_first=True)\n",
    "loans.columns"
   ]
  },
  {
   "cell_type": "markdown",
   "metadata": {},
   "source": [
    "## Splitting into training, testing datasets"
   ]
  },
  {
   "cell_type": "code",
   "execution_count": 14,
   "metadata": {},
   "outputs": [],
   "source": [
    "X = loans.drop('safe_loans', axis=1)\n",
    "y = loans['safe_loans']"
   ]
  },
  {
   "cell_type": "code",
   "execution_count": 15,
   "metadata": {},
   "outputs": [],
   "source": [
    "X_train, X_test, y_train, y_test = train_test_split(X, y, test_size=0.2)"
   ]
  },
  {
   "cell_type": "markdown",
   "metadata": {},
   "source": [
    "## Training a Decision Tree classifier"
   ]
  },
  {
   "cell_type": "code",
   "execution_count": 16,
   "metadata": {},
   "outputs": [],
   "source": [
    "decision_tree_model = DecisionTreeClassifier()"
   ]
  },
  {
   "cell_type": "code",
   "execution_count": 17,
   "metadata": {},
   "outputs": [
    {
     "data": {
      "text/plain": [
       "DecisionTreeClassifier(class_weight=None, criterion='gini', max_depth=None,\n",
       "            max_features=None, max_leaf_nodes=None,\n",
       "            min_impurity_decrease=0.0, min_impurity_split=None,\n",
       "            min_samples_leaf=1, min_samples_split=2,\n",
       "            min_weight_fraction_leaf=0.0, presort=False, random_state=None,\n",
       "            splitter='best')"
      ]
     },
     "execution_count": 17,
     "metadata": {},
     "output_type": "execute_result"
    }
   ],
   "source": [
    "decision_tree_model.fit(X_train, y_train)"
   ]
  },
  {
   "cell_type": "markdown",
   "metadata": {},
   "source": [
    "## Predictions and Evaluation"
   ]
  },
  {
   "cell_type": "code",
   "execution_count": 18,
   "metadata": {},
   "outputs": [],
   "source": [
    "predictions = decision_tree_model.predict(X_test)"
   ]
  },
  {
   "cell_type": "code",
   "execution_count": 19,
   "metadata": {},
   "outputs": [
    {
     "name": "stdout",
     "output_type": "stream",
     "text": [
      "             precision    recall  f1-score   support\n",
      "\n",
      "         -1       0.27      0.29      0.28      4671\n",
      "          1       0.83      0.81      0.82     19851\n",
      "\n",
      "avg / total       0.72      0.71      0.72     24522\n",
      "\n"
     ]
    }
   ],
   "source": [
    "print(classification_report(y_test, predictions))"
   ]
  },
  {
   "cell_type": "code",
   "execution_count": 20,
   "metadata": {},
   "outputs": [
    {
     "name": "stdout",
     "output_type": "stream",
     "text": [
      "[[ 1361  3310]\n",
      " [ 3767 16084]]\n"
     ]
    }
   ],
   "source": [
    "print(confusion_matrix(y_test,predictions))"
   ]
  }
 ],
 "metadata": {
  "kernelspec": {
   "display_name": "Python 3",
   "language": "python",
   "name": "python3"
  },
  "language_info": {
   "codemirror_mode": {
    "name": "ipython",
    "version": 3
   },
   "file_extension": ".py",
   "mimetype": "text/x-python",
   "name": "python",
   "nbconvert_exporter": "python",
   "pygments_lexer": "ipython3",
   "version": "3.5.1"
  }
 },
 "nbformat": 4,
 "nbformat_minor": 2
}
